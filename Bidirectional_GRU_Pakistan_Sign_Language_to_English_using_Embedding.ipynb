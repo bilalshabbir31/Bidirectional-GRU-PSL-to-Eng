{
  "nbformat": 4,
  "nbformat_minor": 0,
  "metadata": {
    "colab": {
      "name": "Bidirectional GRU Pakistan Sign Language to English using Embedding.ipynb",
      "provenance": [],
      "collapsed_sections": []
    },
    "kernelspec": {
      "name": "python3",
      "display_name": "Python 3"
    },
    "language_info": {
      "name": "python"
    },
    "accelerator": "GPU"
  },
  "cells": [
    {
      "cell_type": "code",
      "metadata": {
        "colab": {
          "base_uri": "https://localhost:8080/"
        },
        "id": "ARsLIT-_DXwd",
        "outputId": "4e562557-d45b-4292-d7b6-0039064f0ccd"
      },
      "source": [
        "%tensorflow_version 2.x\n",
        "import tensorflow as tf\n",
        "device_name = tf.test.gpu_device_name()\n",
        "if device_name != '/device:GPU:0':\n",
        "  raise SystemError('GPU device not found')\n",
        "print('Found GPU at: {}'.format(device_name))"
      ],
      "execution_count": null,
      "outputs": [
        {
          "output_type": "stream",
          "text": [
            "Found GPU at: /device:GPU:0\n"
          ],
          "name": "stdout"
        }
      ]
    },
    {
      "cell_type": "code",
      "metadata": {
        "id": "_dnMWFOOEFlP"
      },
      "source": [
        "import warnings\n",
        "warnings.filterwarnings('ignore')\n",
        "import string\n",
        "import re\n",
        "from unicodedata import normalize\n",
        "import numpy as np\n",
        "from keras.preprocessing.text import Tokenizer\n",
        "from keras.preprocessing.sequence import pad_sequences\n",
        "from tensorflow.keras.utils import to_categorical\n",
        "from keras.models import Sequential,load_model\n",
        "from keras.layers import LSTM,Dense,Embedding,RepeatVector,TimeDistributed,Bidirectional,GRU\n",
        "from keras.callbacks import EarlyStopping\n",
        "from keras.preprocessing.text import Tokenizer\n",
        "from keras.preprocessing.sequence import pad_sequences\n",
        "from nltk.translate.bleu_score import corpus_bleu\n",
        "import pandas as pd\n",
        "from string import punctuation\n",
        "import matplotlib.pyplot as plt\n",
        "from IPython.display import Markdown, display\n",
        "from keras.layers import Dropout\n",
        "\n",
        "\n",
        "def printmd(string):\n",
        "    # Print with Markdowns    \n",
        "    display(Markdown(string))"
      ],
      "execution_count": null,
      "outputs": []
    },
    {
      "cell_type": "code",
      "metadata": {
        "colab": {
          "base_uri": "https://localhost:8080/",
          "height": 151
        },
        "id": "F3_CmcLzEFoG",
        "outputId": "83c9c580-436d-44c4-bfae-ddd7cde16fb8"
      },
      "source": [
        "# How many sentences will be used\n",
        "# Limit the sentences to 10.000 on Kaggle to avoid exceding the\n",
        "# available RAM space\n",
        "# Build a generator to avoid this issue\n",
        "\n",
        "total_sentences = 85221\n",
        "\n",
        "# Load the dataset\n",
        "dataset = pd.read_excel(\"/content/drive/MyDrive/FYP/data.xlsx\", nrows = total_sentences)\n",
        "\n",
        "\n",
        "# What proportion of the sentences will be used for the test set\n",
        "test_proportion = 0.3\n",
        "train_test_threshold = int( (1-test_proportion) * total_sentences)\n",
        "\n",
        "printmd(f'## {total_sentences} \"parallel sentences\" will be loaded (original sentence + its translation)')\n",
        "printmd(f'## {train_test_threshold} \"parallel sentences\" will be used to train the model')\n",
        "printmd(f'## {total_sentences-train_test_threshold} \"parallel sentences\" will be used to test the model')"
      ],
      "execution_count": null,
      "outputs": [
        {
          "output_type": "display_data",
          "data": {
            "text/markdown": "## 85221 \"parallel sentences\" will be loaded (original sentence + its translation)",
            "text/plain": [
              "<IPython.core.display.Markdown object>"
            ]
          },
          "metadata": {}
        },
        {
          "output_type": "display_data",
          "data": {
            "text/markdown": "## 59654 \"parallel sentences\" will be used to train the model",
            "text/plain": [
              "<IPython.core.display.Markdown object>"
            ]
          },
          "metadata": {}
        },
        {
          "output_type": "display_data",
          "data": {
            "text/markdown": "## 25567 \"parallel sentences\" will be used to test the model",
            "text/plain": [
              "<IPython.core.display.Markdown object>"
            ]
          },
          "metadata": {}
        }
      ]
    },
    {
      "cell_type": "code",
      "metadata": {
        "colab": {
          "base_uri": "https://localhost:8080/",
          "height": 359
        },
        "id": "_pJwPsIlEFqS",
        "outputId": "e80c6ce4-f693-463a-fcef-94bdc62938dd"
      },
      "source": [
        "# Shuffle the dataset\n",
        "dataset = dataset.sample(frac=1, random_state=0)\n",
        "dataset.iloc[1000:1010]"
      ],
      "execution_count": null,
      "outputs": [
        {
          "output_type": "execute_result",
          "data": {
            "text/html": [
              "<div>\n",
              "<style scoped>\n",
              "    .dataframe tbody tr th:only-of-type {\n",
              "        vertical-align: middle;\n",
              "    }\n",
              "\n",
              "    .dataframe tbody tr th {\n",
              "        vertical-align: top;\n",
              "    }\n",
              "\n",
              "    .dataframe thead th {\n",
              "        text-align: right;\n",
              "    }\n",
              "</style>\n",
              "<table border=\"1\" class=\"dataframe\">\n",
              "  <thead>\n",
              "    <tr style=\"text-align: right;\">\n",
              "      <th></th>\n",
              "      <th>English</th>\n",
              "      <th>PSL</th>\n",
              "    </tr>\n",
              "  </thead>\n",
              "  <tbody>\n",
              "    <tr>\n",
              "      <th>42870</th>\n",
              "      <td>The chief was deciding to be a good man.</td>\n",
              "      <td>Was The chief be a good man decides to now.</td>\n",
              "    </tr>\n",
              "    <tr>\n",
              "      <th>3261</th>\n",
              "      <td>I have an orange and an apple.</td>\n",
              "      <td>I an orange an apple have.</td>\n",
              "    </tr>\n",
              "    <tr>\n",
              "      <th>73922</th>\n",
              "      <td>I had hoped to meet her there.</td>\n",
              "      <td>was I there her meet hope full.</td>\n",
              "    </tr>\n",
              "    <tr>\n",
              "      <th>84184</th>\n",
              "      <td>I know that Shazim is agnostic.</td>\n",
              "      <td>I know that Shazim agnostic.</td>\n",
              "    </tr>\n",
              "    <tr>\n",
              "      <th>79760</th>\n",
              "      <td>He is a director and should be treated as such.</td>\n",
              "      <td>He director such treat.</td>\n",
              "    </tr>\n",
              "    <tr>\n",
              "      <th>61886</th>\n",
              "      <td>I can not believe Anees said yes.</td>\n",
              "      <td>I believe not was Anees say.</td>\n",
              "    </tr>\n",
              "    <tr>\n",
              "      <th>65728</th>\n",
              "      <td>Waasif did not follow the rules.</td>\n",
              "      <td>was Waasif rules follow not.</td>\n",
              "    </tr>\n",
              "    <tr>\n",
              "      <th>36340</th>\n",
              "      <td>It sounds very strange to me.</td>\n",
              "      <td>It me very strange sounds.</td>\n",
              "    </tr>\n",
              "    <tr>\n",
              "      <th>4064</th>\n",
              "      <td>Balam took off his belt.</td>\n",
              "      <td>was Balam his belt take off.</td>\n",
              "    </tr>\n",
              "    <tr>\n",
              "      <th>24879</th>\n",
              "      <td>We have just got to keep going.</td>\n",
              "      <td>We just go keep get full.</td>\n",
              "    </tr>\n",
              "  </tbody>\n",
              "</table>\n",
              "</div>"
            ],
            "text/plain": [
              "                                               English                                          PSL\n",
              "42870         The chief was deciding to be a good man.  Was The chief be a good man decides to now.\n",
              "3261                    I have an orange and an apple.                   I an orange an apple have.\n",
              "73922                   I had hoped to meet her there.              was I there her meet hope full.\n",
              "84184                  I know that Shazim is agnostic.                 I know that Shazim agnostic.\n",
              "79760  He is a director and should be treated as such.                      He director such treat.\n",
              "61886                I can not believe Anees said yes.                 I believe not was Anees say.\n",
              "65728                 Waasif did not follow the rules.                 was Waasif rules follow not.\n",
              "36340                    It sounds very strange to me.                   It me very strange sounds.\n",
              "4064                          Balam took off his belt.                 was Balam his belt take off.\n",
              "24879                  We have just got to keep going.                    We just go keep get full."
            ]
          },
          "metadata": {},
          "execution_count": 4
        }
      ]
    },
    {
      "cell_type": "code",
      "metadata": {
        "id": "QYdNUb4WEFsx"
      },
      "source": [
        "def clean(string):\n",
        "    # Clean the string\n",
        "    string = string.replace(\"\\u202f\",\" \") # Replace no-break space with space\n",
        "    string = string.lower()\n",
        "    \n",
        "    # Delete the punctuation and the numbers\n",
        "    for p in punctuation + \"«»\" + \"0123456789\":\n",
        "        string = string.replace(p,\" \")\n",
        "        \n",
        "        \n",
        "    string = re.sub('\\s+',' ', string)\n",
        "    string = string.strip()\n",
        "           \n",
        "    return string\n",
        "\n",
        "# Clean the sentences\n",
        "dataset[\"English\"] = dataset[\"English\"].apply(lambda x: clean(x))\n",
        "dataset[\"PSL\"] = dataset[\"PSL\"].apply(lambda x: clean(x))\n",
        "\n",
        "# Select one part of the dataset\n",
        "dataset = dataset.values\n",
        "dataset = dataset[:total_sentences]\n",
        "\n",
        "# split into train/test\n",
        "train, test = dataset[:train_test_threshold], dataset[train_test_threshold:]\n",
        "\n",
        "# Define the name of the source and of the target\n",
        "# This will be used in the outputs of this notebook\n",
        "source_str, target_str = \"PSL\", \"English\"\n",
        "\n",
        "# The index in the numpy array of the source and of the target\n",
        "idx_src, idx_tar = 1,0"
      ],
      "execution_count": null,
      "outputs": []
    },
    {
      "cell_type": "code",
      "metadata": {
        "colab": {
          "base_uri": "https://localhost:8080/",
          "height": 115
        },
        "id": "Ti9qBNdCERi_",
        "outputId": "b29f3e71-f168-4778-83ad-833eec27f771"
      },
      "source": [
        "def create_tokenizer(lines):\n",
        "    # fit a tokenizer\n",
        "    tokenizer = Tokenizer()\n",
        "    tokenizer.fit_on_texts(lines)\n",
        "    return tokenizer\n",
        " \n",
        "def max_len(lines):\n",
        "    # max sentence length\n",
        "    return max(len(line.split()) for line in lines)\n",
        "\n",
        "def encode_sequences(tokenizer, length, lines):\n",
        "    # encode and pad sequences\n",
        "    X = tokenizer.texts_to_sequences(lines) # integer encode sequences\n",
        "    X = pad_sequences(X, maxlen=length, padding='post') # pad sequences with 0 values\n",
        "    return X\n",
        " \n",
        "def encode_output(sequences, vocab_size):\n",
        "    # one hot encode target sequence\n",
        "    ylist = list()\n",
        "    for sequence in sequences:\n",
        "        encoded = to_categorical(sequence, num_classes=vocab_size)\n",
        "        ylist.append(encoded)\n",
        "    y = np.array(ylist)\n",
        "    y = y.reshape(sequences.shape[0], sequences.shape[1], vocab_size)\n",
        "    return y\n",
        " \n",
        "# Prepare target tokenizer\n",
        "tar_tokenizer = create_tokenizer(dataset[:, idx_tar])\n",
        "tar_vocab_size = len(tar_tokenizer.word_index) + 1\n",
        "tar_length = max_len(dataset[:, idx_tar])\n",
        "printmd(f'\\nTarget ({target_str}) Vocabulary Size: {tar_vocab_size}')\n",
        "printmd(f'Target ({target_str}) Max Length: {tar_length}')\n",
        "\n",
        "# Prepare source tokenizer\n",
        "src_tokenizer = create_tokenizer(dataset[:, idx_src])\n",
        "src_vocab_size = len(src_tokenizer.word_index) + 1\n",
        "src_length = max_len(dataset[:, idx_src])\n",
        "printmd(f'\\nSource ({source_str}) Vocabulary Size: {src_vocab_size}')\n",
        "printmd(f'Source ({source_str}) Max Length: {src_length}\\n')\n",
        " \n"
      ],
      "execution_count": null,
      "outputs": [
        {
          "output_type": "display_data",
          "data": {
            "text/markdown": "\nTarget (English) Vocabulary Size: 9256",
            "text/plain": [
              "<IPython.core.display.Markdown object>"
            ]
          },
          "metadata": {}
        },
        {
          "output_type": "display_data",
          "data": {
            "text/markdown": "Target (English) Max Length: 12",
            "text/plain": [
              "<IPython.core.display.Markdown object>"
            ]
          },
          "metadata": {}
        },
        {
          "output_type": "display_data",
          "data": {
            "text/markdown": "\nSource (PSL) Vocabulary Size: 8089",
            "text/plain": [
              "<IPython.core.display.Markdown object>"
            ]
          },
          "metadata": {}
        },
        {
          "output_type": "display_data",
          "data": {
            "text/markdown": "Source (PSL) Max Length: 14\n",
            "text/plain": [
              "<IPython.core.display.Markdown object>"
            ]
          },
          "metadata": {}
        }
      ]
    },
    {
      "cell_type": "markdown",
      "metadata": {
        "id": "8-LAxZVoEUQl"
      },
      "source": [
        "# Glove"
      ]
    },
    {
      "cell_type": "code",
      "metadata": {
        "colab": {
          "base_uri": "https://localhost:8080/"
        },
        "id": "N9QqIakWERl2",
        "outputId": "f166a7a1-7f43-4494-e62a-e80c9222414b"
      },
      "source": [
        "# load embeding for text file\n",
        "embeddings_index = dict()\n",
        "f = open('/content/drive/MyDrive/glove.6B.300d.txt')\n",
        "\n",
        "for line in f:\n",
        "    values = line.split()\n",
        "    word = values[0]\n",
        "    coefs = np.asarray(values[1:], dtype='float32')\n",
        "    embeddings_index[word] = coefs\n",
        "f.close()\n",
        "print('Loaded %s word vectors.' % len(embeddings_index))"
      ],
      "execution_count": null,
      "outputs": [
        {
          "output_type": "stream",
          "text": [
            "Loaded 400000 word vectors.\n"
          ],
          "name": "stdout"
        }
      ]
    },
    {
      "cell_type": "code",
      "metadata": {
        "id": "ZRfVS6_tERoW"
      },
      "source": [
        "dims=300\n",
        "flag=1\n",
        "word_index = {w: i for i, w in enumerate(embeddings_index, 1)}\n",
        "embedding_matrix = np.zeros((len(word_index)+1, dims))\n",
        "for word, i in word_index.items():\n",
        "    embedding_vector = embeddings_index.get(word)\n",
        "    if embedding_vector is not None:\n",
        "        # words not found in embedding index will be all-zeros.\n",
        "        embedding_matrix[i] = embedding_vector[:dims]\n",
        "        "
      ],
      "execution_count": null,
      "outputs": []
    },
    {
      "cell_type": "code",
      "metadata": {
        "id": "TXKMifdQERqb"
      },
      "source": [
        "# Prepare training data\n",
        "trainX = encode_sequences(src_tokenizer, src_length, train[8000:16000, idx_src])\n",
        "trainY = encode_sequences(tar_tokenizer, tar_length, train[8000:16000, idx_tar])\n",
        "trainY = encode_output(trainY, tar_vocab_size)\n"
      ],
      "execution_count": null,
      "outputs": []
    },
    {
      "cell_type": "code",
      "metadata": {
        "id": "LI7MSrXfERst"
      },
      "source": [
        "def create_model(src_vocab, tar_vocab, src_timesteps, tar_timesteps, n_units):\n",
        "    # Create the model\n",
        "    model = Sequential()\n",
        "    model.add(Embedding(embedding_matrix.shape[0],embedding_matrix.shape[1],weights=[embedding_matrix],input_length=src_timesteps,trainable=False))\n",
        "    model.add(Bidirectional(GRU(n_units)))\n",
        "    model.add(RepeatVector(tar_timesteps))\n",
        "    model.add(Dropout(0.1))\n",
        "    model.add(Bidirectional(GRU(n_units, return_sequences=True)))\n",
        "\n",
        "    model.add(TimeDistributed(Dense(tar_vocab, activation='sigmoid')))\n",
        "    return model\n",
        " "
      ],
      "execution_count": null,
      "outputs": []
    },
    {
      "cell_type": "code",
      "metadata": {
        "id": "bBnZx5QEERvC"
      },
      "source": [
        "# Create model\n",
        "model = create_model(src_vocab_size, tar_vocab_size, src_length, tar_length, 256)\n",
        "model.compile(optimizer='adam', loss='categorical_crossentropy')"
      ],
      "execution_count": null,
      "outputs": []
    },
    {
      "cell_type": "code",
      "metadata": {
        "colab": {
          "base_uri": "https://localhost:8080/"
        },
        "id": "9SdXM6_HERxF",
        "outputId": "56ff13e2-9d33-40a0-d4cf-9e50775d0b36"
      },
      "source": [
        "history = model.fit(trainX, \n",
        "          trainY, \n",
        "          epochs=100, \n",
        "          batch_size=128, \n",
        "          validation_split=0.2, \n",
        "          verbose=1,\n",
        "          callbacks=[\n",
        "                        EarlyStopping(\n",
        "                        monitor='val_loss',\n",
        "                        patience=10,\n",
        "                        restore_best_weights=True\n",
        "                    )\n",
        "            ])"
      ],
      "execution_count": null,
      "outputs": [
        {
          "output_type": "stream",
          "text": [
            "Epoch 1/100\n",
            "50/50 [==============================] - 14s 145ms/step - loss: 1.6793 - val_loss: 1.5742\n",
            "Epoch 2/100\n",
            "50/50 [==============================] - 5s 98ms/step - loss: 1.3189 - val_loss: 1.4893\n",
            "Epoch 3/100\n",
            "50/50 [==============================] - 5s 102ms/step - loss: 1.0901 - val_loss: 1.4483\n",
            "Epoch 4/100\n",
            "50/50 [==============================] - 5s 105ms/step - loss: 0.9318 - val_loss: 1.4185\n",
            "Epoch 5/100\n",
            "50/50 [==============================] - 5s 101ms/step - loss: 0.8007 - val_loss: 1.3941\n",
            "Epoch 6/100\n",
            "50/50 [==============================] - 5s 103ms/step - loss: 0.7005 - val_loss: 1.4027\n",
            "Epoch 7/100\n",
            "50/50 [==============================] - 5s 103ms/step - loss: 0.6272 - val_loss: 1.3868\n",
            "Epoch 8/100\n",
            "50/50 [==============================] - 5s 104ms/step - loss: 0.5605 - val_loss: 1.3939\n",
            "Epoch 9/100\n",
            "50/50 [==============================] - 5s 103ms/step - loss: 0.5057 - val_loss: 1.3757\n",
            "Epoch 10/100\n",
            "50/50 [==============================] - 5s 101ms/step - loss: 0.4598 - val_loss: 1.3775\n",
            "Epoch 11/100\n",
            "50/50 [==============================] - 5s 102ms/step - loss: 0.4199 - val_loss: 1.3843\n",
            "Epoch 12/100\n",
            "50/50 [==============================] - 5s 105ms/step - loss: 0.3907 - val_loss: 1.3831\n",
            "Epoch 13/100\n",
            "50/50 [==============================] - 5s 102ms/step - loss: 0.3634 - val_loss: 1.3796\n",
            "Epoch 14/100\n",
            "50/50 [==============================] - 5s 104ms/step - loss: 0.3352 - val_loss: 1.3849\n",
            "Epoch 15/100\n",
            "50/50 [==============================] - 5s 106ms/step - loss: 0.3154 - val_loss: 1.3864\n",
            "Epoch 16/100\n",
            "50/50 [==============================] - 5s 102ms/step - loss: 0.2964 - val_loss: 1.3858\n",
            "Epoch 17/100\n",
            "50/50 [==============================] - 5s 102ms/step - loss: 0.2786 - val_loss: 1.3858\n",
            "Epoch 18/100\n",
            "50/50 [==============================] - 5s 104ms/step - loss: 0.2626 - val_loss: 1.3920\n",
            "Epoch 19/100\n",
            "50/50 [==============================] - 5s 103ms/step - loss: 0.2493 - val_loss: 1.4038\n"
          ],
          "name": "stdout"
        }
      ]
    },
    {
      "cell_type": "code",
      "metadata": {
        "id": "wAni5JIeERzS"
      },
      "source": [
        "model.save('/content/drive/MyDrive/FYP/GRU Golvee Model/bigrumodel.h5')"
      ],
      "execution_count": null,
      "outputs": []
    },
    {
      "cell_type": "code",
      "metadata": {
        "id": "1BMmjPVrEFu-"
      },
      "source": [
        "from tensorflow import keras\n",
        "model = keras.models.load_model('/content/drive/MyDrive/FYP/GRU Golvee Model/bigrumodel.h5')"
      ],
      "execution_count": null,
      "outputs": []
    },
    {
      "cell_type": "code",
      "metadata": {
        "colab": {
          "base_uri": "https://localhost:8080/"
        },
        "id": "EukxL5T3EFxN",
        "outputId": "bb92bd11-8dfd-4aa5-ac6d-759909a743f4"
      },
      "source": [
        "model.summary()"
      ],
      "execution_count": null,
      "outputs": [
        {
          "output_type": "stream",
          "text": [
            "Model: \"sequential\"\n",
            "_________________________________________________________________\n",
            "Layer (type)                 Output Shape              Param #   \n",
            "=================================================================\n",
            "embedding (Embedding)        (None, 14, 300)           120000300 \n",
            "_________________________________________________________________\n",
            "bidirectional (Bidirectional (None, 512)               857088    \n",
            "_________________________________________________________________\n",
            "repeat_vector (RepeatVector) (None, 12, 512)           0         \n",
            "_________________________________________________________________\n",
            "dropout (Dropout)            (None, 12, 512)           0         \n",
            "_________________________________________________________________\n",
            "bidirectional_1 (Bidirection (None, 12, 512)           1182720   \n",
            "_________________________________________________________________\n",
            "time_distributed (TimeDistri (None, 12, 9256)          4748328   \n",
            "=================================================================\n",
            "Total params: 126,788,436\n",
            "Trainable params: 6,788,136\n",
            "Non-trainable params: 120,000,300\n",
            "_________________________________________________________________\n"
          ],
          "name": "stdout"
        }
      ]
    },
    {
      "cell_type": "markdown",
      "metadata": {
        "id": "HeUBMySPQjTp"
      },
      "source": [
        "# Testing Phase with Golvee"
      ]
    },
    {
      "cell_type": "code",
      "metadata": {
        "id": "9jq7Mc4iQrgt"
      },
      "source": [
        "# Prepare test data\n",
        "testX = encode_sequences(src_tokenizer, src_length, test[20000:25567, idx_src])\n",
        "testY = encode_sequences(tar_tokenizer, tar_length, test[20000:25567, idx_tar])\n",
        "testY = encode_output(testY, tar_vocab_size)"
      ],
      "execution_count": null,
      "outputs": []
    },
    {
      "cell_type": "code",
      "metadata": {
        "colab": {
          "base_uri": "https://localhost:8080/"
        },
        "id": "QkrK8eDOQybK",
        "outputId": "6e9c0d04-711f-4b2b-9ace-da684243cd4d"
      },
      "source": [
        "def word_for_id(integer, tokenizer):\n",
        "    # map an integer to a word\n",
        "    for word, index in tokenizer.word_index.items():\n",
        "        if index == integer:\n",
        "            return word\n",
        "    return None\n",
        " \n",
        "def predict_seq(model, tokenizer, source):\n",
        "    # generate target from a source sequence\n",
        "    prediction = model.predict(source, verbose=0)[0]\n",
        "    integers = [np.argmax(vector) for vector in prediction]\n",
        "    target = list()\n",
        "    \n",
        "    for i in integers:\n",
        "        word = word_for_id(i, tokenizer)\n",
        "        if word is None:\n",
        "            break\n",
        "        target.append(word)\n",
        "    return ' '.join(target)\n",
        "\n",
        "def compare_prediction(model, tokenizer, sources, raw_dataset, limit=20):\n",
        "    # evaluate a model\n",
        "    actual, predicted = [], []\n",
        "    src = f'{source_str.upper()} (SOURCE)'\n",
        "    tgt = f'{target_str.upper()} (TARGET)'\n",
        "    pred = f'AUTOMATIC TRANSLATION IN {target_str.upper()}'\n",
        "    print(f'{src:30} {tgt:25} {pred}\\n')\n",
        "    \n",
        "    for i, source in enumerate(sources): # translate encoded source text\n",
        "        source = source.reshape((1, source.shape[0]))\n",
        "        translation = predict_seq(model, tar_tokenizer, source)\n",
        "        raw_target, raw_src = raw_dataset[i]\n",
        "        print(f'{raw_src:30} {raw_target:25} {translation}')\n",
        "        if i >= limit: # Display some of the result\n",
        "            break\n",
        " \n",
        "# test on some training sequences\n",
        "# print('### Result on the Training Set ###')\n",
        "# compare_prediction(model, tar_tokenizer, trainX, train)\n",
        "\n",
        "# test on some test sequences\n",
        "print('\\n\\n### Result on the Test Set ###')\n",
        "compare_prediction(model, tar_tokenizer, testX,test[:10000,:])"
      ],
      "execution_count": null,
      "outputs": [
        {
          "output_type": "stream",
          "text": [
            "\n",
            "\n",
            "### Result on the Test Set ###\n",
            "PSL (SOURCE)                   ENGLISH (TARGET)          AUTOMATIC TRANSLATION IN ENGLISH\n",
            "\n",
            "was she food cook full         she had cooked food       she had cooked food\n",
            "was i them tell not            i did not tell them       i did not tell them\n",
            "i stupid feel                  i feel stupid             i feel stupid\n",
            "ranjhoo it like after          ranjhoo will like it      ranjhoo will like it\n",
            "was they their parents obey not they did not obey their parents they did not carry their bag\n",
            "hello                          hello                     hello\n",
            "i brothers sisters have        i have eight brothers and sisters i have brothers brothers\n",
            "i now go go now                i am going to go now      i am going to go now\n",
            "i join in yes no               can i join in             can i join in\n",
            "was it important               it was important          it was important\n",
            "you mail full                  you have mail             you have girl\n",
            "everybody know i you hate      everybody knows i hate you everybody knows i hate you\n",
            "was i you totally              i was totally into you    i was totally you\n",
            "was you part get               you got the part          you got part\n",
            "was i it properly handle       i handled it properly     i was it it\n",
            "was javaid say that was bakhtawar lucky not javaid said that bakhtawar was not lucky javaid said that bakhtawar was not lucky\n",
            "was waasif lamp turn off       waasif turned off the lamp the turned off the the off\n",
            "we them trust yes no           can we trust them         can we trust them\n",
            "was my mother them sew full now not my mother had not been sewing them my mother had not been sewing them\n",
            "was kitten milk drink full now the kitten had been drinking milk the kitten had been drinking milk\n",
            "was husnain champagne drink want husnain wanted to drink champagne husnain wanted to be a\n"
          ],
          "name": "stdout"
        }
      ]
    },
    {
      "cell_type": "markdown",
      "metadata": {
        "id": "Hesw3kDnQymF"
      },
      "source": [
        "## Bleu Score"
      ]
    },
    {
      "cell_type": "code",
      "metadata": {
        "id": "au4mwwGUQyp9"
      },
      "source": [
        "def bleu_score(model, tokenizer, sources, raw_dataset):\n",
        "    # Get the bleu score of a model\n",
        "    actual, predicted = [], []\n",
        "    for i, source in enumerate(sources):\n",
        "        # translate encoded source text\n",
        "        source = source.reshape((1, source.shape[0]))\n",
        "        translation = predict_seq(model, tar_tokenizer, source)\n",
        "        raw_target, raw_src = raw_dataset[i]\n",
        "        actual.append([raw_target.split()])\n",
        "        predicted.append(translation.split())\n",
        "        \n",
        "    bleu_dic = {}\n",
        "    bleu_dic['1-grams'] = corpus_bleu(actual, predicted, weights=(1.0, 0, 0, 0))\n",
        "    bleu_dic['1-2-grams'] = corpus_bleu(actual, predicted, weights=(0.5, 0.5, 0, 0))\n",
        "    bleu_dic['1-3-grams'] = corpus_bleu(actual, predicted, weights=(0.3, 0.3, 0.3, 0))\n",
        "    bleu_dic['1-4-grams'] = corpus_bleu(actual, predicted, weights=(0.25, 0.25, 0.25, 0.25))\n",
        "    \n",
        "    return bleu_dic\n",
        "\n",
        "# Compute the BLEU Score\n",
        "# bleu_train = bleu_score(model, tar_tokenizer, trainX, train)\n",
        "bleu_test = bleu_score(model, tar_tokenizer, testX, test[:10000,:])"
      ],
      "execution_count": null,
      "outputs": []
    },
    {
      "cell_type": "code",
      "metadata": {
        "colab": {
          "base_uri": "https://localhost:8080/",
          "height": 281
        },
        "id": "BMcwoHWyQyrc",
        "outputId": "ac79508e-41ac-4b2b-befa-8c09004cab49"
      },
      "source": [
        "plt.bar(x = bleu_test.keys(), height = bleu_test.values())\n",
        "plt.title(\"BLEU Score with the first 10000 test set\")\n",
        "plt.ylim((0,1))\n",
        "plt.show()"
      ],
      "execution_count": null,
      "outputs": [
        {
          "output_type": "display_data",
          "data": {
            "image/png": "[encoded data removed]",
            "text/plain": [
              "<Figure size 432x288 with 1 Axes>"
            ]
          },
          "metadata": {
            "needs_background": "light"
          }
        }
      ]
    },
    {
      "cell_type": "code",
      "metadata": {
        "colab": {
          "base_uri": "https://localhost:8080/"
        },
        "id": "84iFl0vkQytI",
        "outputId": "4585d4d6-b3fb-4812-dfbe-6c35fbe32759"
      },
      "source": [
        "print(bleu_test)"
      ],
      "execution_count": null,
      "outputs": [
        {
          "output_type": "stream",
          "text": [
            "{'1-grams': 0.7232302157936887, '1-2-grams': 0.6150046669667623, '1-3-grams': 0.5613931268421277, '1-4-grams': 0.4530424787595973}\n"
          ],
          "name": "stdout"
        }
      ]
    },
    {
      "cell_type": "markdown",
      "metadata": {
        "id": "itnWL3jKQyvq"
      },
      "source": [
        "## WER"
      ]
    },
    {
      "cell_type": "code",
      "metadata": {
        "colab": {
          "base_uri": "https://localhost:8080/"
        },
        "id": "29C-NSVwQyyE",
        "outputId": "c9765efb-27d3-4a7b-88b3-38b03b3dcb3f"
      },
      "source": [
        "def word_for_id(integer, tokenizer):\n",
        "    # map an integer to a word\n",
        "    for word, index in tokenizer.word_index.items():\n",
        "        if index == integer:\n",
        "            return word\n",
        "    return None\n",
        " \n",
        "def predict_seq(model, tokenizer, source):\n",
        "    # generate target from a source sequence\n",
        "    prediction = model.predict(source, verbose=0)[0]\n",
        "    integers = [np.argmax(vector) for vector in prediction]\n",
        "    target = list()\n",
        "    \n",
        "    for i in integers:\n",
        "        word = word_for_id(i, tokenizer)\n",
        "        if word is None:\n",
        "            break\n",
        "        target.append(word)\n",
        "    return ' '.join(target)\n",
        "\n",
        "def compare_prediction(model, tokenizer, sources, raw_dataset, limit=20):\n",
        "    # evaluate a model\n",
        "    actual, predicted = [], []\n",
        "    src = f'{source_str.upper()} (SOURCE)'\n",
        "    tgt = f'{target_str.upper()} (TARGET)'\n",
        "    pred = f'AUTOMATIC TRANSLATION IN {target_str.upper()}'\n",
        "    #print(f'{src:30} {tgt:25} {pred}\\n')\n",
        "    \n",
        "    for i, source in enumerate(sources): # translate encoded source text\n",
        "        source = source.reshape((1, source.shape[0]))\n",
        "        translation = predict_seq(model, tar_tokenizer, source)\n",
        "        raw_target, raw_src = raw_dataset[i]\n",
        "        #print(f'{raw_src:30} {raw_target:25} {translation}')\n",
        "        #print(translation)     #predicit\n",
        "        #print(raw_target)      #actual\n",
        "        actual.append(raw_target)\n",
        "        predicted.append(translation)\n",
        "        if i >= limit: # Display some of the result\n",
        "            return actual,predicted\n",
        "            break\n",
        " \n",
        "# # test on some training sequences!pip install jiwer\n",
        "# print('### Result on the Training Set ###')\n",
        "# compare_prediction(model, tar_tokenizer, trainX, train)\n",
        "\n",
        "# test on some test sequences\n",
        "print('\\n\\n### Result on the Test Set ###')\n",
        "Actual,Predicted=compare_prediction(model, tar_tokenizer, testX,test[:10000,:])"
      ],
      "execution_count": null,
      "outputs": [
        {
          "output_type": "stream",
          "text": [
            "\n",
            "\n",
            "### Result on the Test Set ###\n"
          ],
          "name": "stdout"
        }
      ]
    },
    {
      "cell_type": "code",
      "metadata": {
        "colab": {
          "base_uri": "https://localhost:8080/"
        },
        "id": "zu3RnarMQy0o",
        "outputId": "611065a6-a58a-431b-df61-809e54e45190"
      },
      "source": [
        "!pip install jiwer"
      ],
      "execution_count": null,
      "outputs": [
        {
          "output_type": "stream",
          "text": [
            "Collecting jiwer\n",
            "  Downloading jiwer-2.2.0-py3-none-any.whl (13 kB)\n",
            "Collecting python-Levenshtein\n",
            "  Downloading python-Levenshtein-0.12.2.tar.gz (50 kB)\n",
            "\u001b[K     |████████████████████████████████| 50 kB 3.0 MB/s \n",
            "\u001b[?25hRequirement already satisfied: numpy in /usr/local/lib/python3.7/dist-packages (from jiwer) (1.19.5)\n",
            "Requirement already satisfied: setuptools in /usr/local/lib/python3.7/dist-packages (from python-Levenshtein->jiwer) (57.4.0)\n",
            "Building wheels for collected packages: python-Levenshtein\n",
            "  Building wheel for python-Levenshtein (setup.py) ... \u001b[?25l\u001b[?25hdone\n",
            "  Created wheel for python-Levenshtein: filename=python_Levenshtein-0.12.2-cp37-cp37m-linux_x86_64.whl size=149862 sha256=65fb5406b855f3b478f2f35e54d807bd722bb0d71f97977f08cfa058cdd00e3d\n",
            "  Stored in directory: /root/.cache/pip/wheels/05/5f/ca/7c4367734892581bb5ff896f15027a932c551080b2abd3e00d\n",
            "Successfully built python-Levenshtein\n",
            "Installing collected packages: python-Levenshtein, jiwer\n",
            "Successfully installed jiwer-2.2.0 python-Levenshtein-0.12.2\n"
          ],
          "name": "stdout"
        }
      ]
    },
    {
      "cell_type": "code",
      "metadata": {
        "colab": {
          "base_uri": "https://localhost:8080/"
        },
        "id": "hgsqxfukQy33",
        "outputId": "e921c563-ee9c-48c8-d2cc-5ccfa5288917"
      },
      "source": [
        "from jiwer import wer\n",
        "error=wer(Actual,Predicted)\n",
        "error"
      ],
      "execution_count": null,
      "outputs": [
        {
          "output_type": "execute_result",
          "data": {
            "text/plain": [
              "0.15463917525773196"
            ]
          },
          "metadata": {},
          "execution_count": 20
        }
      ]
    },
    {
      "cell_type": "markdown",
      "metadata": {
        "id": "e3DZq6heRHbR"
      },
      "source": [
        "## TER"
      ]
    },
    {
      "cell_type": "code",
      "metadata": {
        "colab": {
          "base_uri": "https://localhost:8080/"
        },
        "id": "djdUPVYBQy6F",
        "outputId": "cb31f6e9-d1ba-4bbe-bcbf-db52f11d2360"
      },
      "source": [
        "!pip install pyter3\n",
        "import pyter"
      ],
      "execution_count": null,
      "outputs": [
        {
          "output_type": "stream",
          "text": [
            "Collecting pyter3\n",
            "  Downloading pyter3-0.3-py3-none-any.whl (4.1 kB)\n",
            "Installing collected packages: pyter3\n",
            "Successfully installed pyter3-0.3\n"
          ],
          "name": "stdout"
        }
      ]
    },
    {
      "cell_type": "code",
      "metadata": {
        "colab": {
          "base_uri": "https://localhost:8080/"
        },
        "id": "iQAk2AnGQy91",
        "outputId": "1381c387-e4e6-4ca0-f298-a78eba127d7d"
      },
      "source": [
        "i=0\n",
        "sum=0\n",
        "while i<len(Actual):\n",
        "  #print(pyter.ter(Actual[i].split(),Predicted[i].split()))\n",
        "  sum+=pyter.ter(Actual[i].split(),Predicted[i].split())\n",
        "  i=i+1\n",
        "\n",
        "\n",
        "\n",
        "sum=sum/len(Actual)\n",
        "sum"
      ],
      "execution_count": null,
      "outputs": [
        {
          "output_type": "execute_result",
          "data": {
            "text/plain": [
              "0.1619047619047619"
            ]
          },
          "metadata": {},
          "execution_count": 22
        }
      ]
    },
    {
      "cell_type": "markdown",
      "metadata": {
        "id": "wzPzL8z4R_Az"
      },
      "source": [
        "# For 2nd 10000 testing Instance."
      ]
    },
    {
      "cell_type": "code",
      "metadata": {
        "colab": {
          "base_uri": "https://localhost:8080/"
        },
        "id": "1uX3g6hhSBEO",
        "outputId": "fc9ef901-0adc-4c4d-ce53-c7459f3402f4"
      },
      "source": [
        "def word_for_id(integer, tokenizer):\n",
        "    # map an integer to a word\n",
        "    for word, index in tokenizer.word_index.items():\n",
        "        if index == integer:\n",
        "            return word\n",
        "    return None\n",
        " \n",
        "def predict_seq(model, tokenizer, source):\n",
        "    # generate target from a source sequence\n",
        "    prediction = model.predict(source, verbose=0)[0]\n",
        "    integers = [np.argmax(vector) for vector in prediction]\n",
        "    target = list()\n",
        "    \n",
        "    for i in integers:\n",
        "        word = word_for_id(i, tokenizer)\n",
        "        if word is None:\n",
        "            break\n",
        "        target.append(word)\n",
        "    return ' '.join(target)\n",
        "\n",
        "def compare_prediction(model, tokenizer, sources, raw_dataset, limit=20):\n",
        "    # evaluate a model\n",
        "    actual, predicted = [], []\n",
        "    src = f'{source_str.upper()} (SOURCE)'\n",
        "    tgt = f'{target_str.upper()} (TARGET)'\n",
        "    pred = f'AUTOMATIC TRANSLATION IN {target_str.upper()}'\n",
        "    print(f'{src:30} {tgt:25} {pred}\\n')\n",
        "    \n",
        "    for i, source in enumerate(sources): # translate encoded source text\n",
        "        source = source.reshape((1, source.shape[0]))\n",
        "        translation = predict_seq(model, tar_tokenizer, source)\n",
        "        raw_target, raw_src = raw_dataset[i]\n",
        "        print(f'{raw_src:30} {raw_target:25} {translation}')\n",
        "        if i >= limit: # Display some of the result\n",
        "            break\n",
        " \n",
        "# test on some training sequences\n",
        "# print('### Result on the Training Set ###')\n",
        "# compare_prediction(model, tar_tokenizer, trainX, train)\n",
        "\n",
        "# test on some test sequences\n",
        "print('\\n\\n### Result on the Test Set ###')\n",
        "compare_prediction(model, tar_tokenizer, testX, test[10000:20000,:])"
      ],
      "execution_count": null,
      "outputs": [
        {
          "output_type": "stream",
          "text": [
            "\n",
            "\n",
            "### Result on the Test Set ###\n",
            "PSL (SOURCE)                   ENGLISH (TARGET)          AUTOMATIC TRANSLATION IN ENGLISH\n",
            "\n",
            "was salman quite frustrate     salman was quite frustrated salman was quite quite\n",
            "was nihal his new guitar show  nihal showed me his new guitar nihal showed his his his\n",
            "sajeel other week here come    sajeel comes here every other week sajeel comes here here week week\n",
            "was i direction change         i changed direction       i was the change\n",
            "i glad that was ranjhoo win    i am glad that ranjhoo won i am glad glad won won\n",
            "i do after whatever you want   i will do whatever you want i will do whatever whatever want\n",
            "i know when hassam lie now     i know when hassam is lying i know when when is lying\n",
            "he his own way live wish       he wishes to live his own way he lives to own his own\n",
            "manan his wife karachi live    manan and his wife live in karachi manan karachi karachi karachi karachi karachi\n",
            "was he home come evening yes no did he come home in the evening did he come home in the evening\n",
            "was i today able it do         i was able to do it today i did able it do it\n",
            "i it a lot appreciate          i appreciate it a lot     i appreciate appreciate a lot\n",
            "was you charge what            what did you charge       what did you charge\n",
            "you enchiladas eat yes no      do you eat enchiladas     can you eat\n",
            "was we our way lose            we lost our way           we lost our way way\n",
            "was arsh business control take arsh took control of the business najeeb took a control of\n",
            "noun naming word full after yes no will noun have been a naming word will noun have a a word word\n",
            "i faris arrest now not         i am not arresting faris  i am not taking faris\n",
            "sure make ranjhoo you see not  make sure ranjhoo does not see you do do not make make it\n",
            "was we in afternoon at two meet we met at two in the afternoon we met at at at at\n",
            "was i you bother want not      i did not want to bother you i did not want to bother you\n"
          ],
          "name": "stdout"
        }
      ]
    },
    {
      "cell_type": "markdown",
      "metadata": {
        "id": "F5cWGbrtSDVP"
      },
      "source": [
        "## Bleu Score"
      ]
    },
    {
      "cell_type": "code",
      "metadata": {
        "id": "WQt6BGS5SDgv"
      },
      "source": [
        "def bleu_score(model, tokenizer, sources, raw_dataset):\n",
        "    # Get the bleu score of a model\n",
        "    actual, predicted = [], []\n",
        "    for i, source in enumerate(sources):\n",
        "        # translate encoded source text\n",
        "        source = source.reshape((1, source.shape[0]))\n",
        "        translation = predict_seq(model, tar_tokenizer, source)\n",
        "        raw_target, raw_src = raw_dataset[i]\n",
        "        actual.append([raw_target.split()])\n",
        "        predicted.append(translation.split())\n",
        "        \n",
        "    bleu_dic = {}\n",
        "    bleu_dic['1-grams'] = corpus_bleu(actual, predicted, weights=(1.0, 0, 0, 0))\n",
        "    bleu_dic['1-2-grams'] = corpus_bleu(actual, predicted, weights=(0.5, 0.5, 0, 0))\n",
        "    bleu_dic['1-3-grams'] = corpus_bleu(actual, predicted, weights=(0.3, 0.3, 0.3, 0))\n",
        "    bleu_dic['1-4-grams'] = corpus_bleu(actual, predicted, weights=(0.25, 0.25, 0.25, 0.25))\n",
        "    \n",
        "    return bleu_dic\n",
        "\n",
        "# Compute the BLEU Score\n",
        "# bleu_train = bleu_score(model, tar_tokenizer, trainX, train)\n",
        "bleu_test = bleu_score(model, tar_tokenizer, testX, test[10000:20000,:])"
      ],
      "execution_count": null,
      "outputs": []
    },
    {
      "cell_type": "code",
      "metadata": {
        "colab": {
          "base_uri": "https://localhost:8080/",
          "height": 281
        },
        "id": "s0my8ctPSDjX",
        "outputId": "9b25438d-c09f-427d-c8ba-5932ceae2596"
      },
      "source": [
        "plt.bar(x = bleu_test.keys(), height = bleu_test.values())\n",
        "plt.title(\"BLEU Score with 2nd 10000 test set\")\n",
        "plt.ylim((0,1))\n",
        "plt.show()"
      ],
      "execution_count": null,
      "outputs": [
        {
          "output_type": "display_data",
          "data": {
            "image/png": "[encoded data removed]",
            "text/plain": [
              "<Figure size 432x288 with 1 Axes>"
            ]
          },
          "metadata": {
            "needs_background": "light"
          }
        }
      ]
    },
    {
      "cell_type": "code",
      "metadata": {
        "colab": {
          "base_uri": "https://localhost:8080/"
        },
        "id": "WC4IFCJISDly",
        "outputId": "a27600f1-c60a-4b67-df10-d3b9ff1cb6ff"
      },
      "source": [
        "print(bleu_test)"
      ],
      "execution_count": null,
      "outputs": [
        {
          "output_type": "stream",
          "text": [
            "{'1-grams': 0.7206259512603983, '1-2-grams': 0.6112569202502609, '1-3-grams': 0.5575986997719323, '1-4-grams': 0.4486377701583157}\n"
          ],
          "name": "stdout"
        }
      ]
    },
    {
      "cell_type": "markdown",
      "metadata": {
        "id": "764bwb57SDoW"
      },
      "source": [
        "## WER"
      ]
    },
    {
      "cell_type": "code",
      "metadata": {
        "colab": {
          "base_uri": "https://localhost:8080/"
        },
        "id": "CmyVgJ3xSDrM",
        "outputId": "8435b5e8-8b21-417b-a8b9-803617d8a977"
      },
      "source": [
        "def word_for_id(integer, tokenizer):\n",
        "    # map an integer to a word\n",
        "    for word, index in tokenizer.word_index.items():\n",
        "        if index == integer:\n",
        "            return word\n",
        "    return None\n",
        " \n",
        "def predict_seq(model, tokenizer, source):\n",
        "    # generate target from a source sequence\n",
        "    prediction = model.predict(source, verbose=0)[0]\n",
        "    integers = [np.argmax(vector) for vector in prediction]\n",
        "    target = list()\n",
        "    \n",
        "    for i in integers:\n",
        "        word = word_for_id(i, tokenizer)\n",
        "        if word is None:\n",
        "            break\n",
        "        target.append(word)\n",
        "    return ' '.join(target)\n",
        "\n",
        "def compare_prediction(model, tokenizer, sources, raw_dataset, limit=20):\n",
        "    # evaluate a model\n",
        "    actual, predicted = [], []\n",
        "    src = f'{source_str.upper()} (SOURCE)'\n",
        "    tgt = f'{target_str.upper()} (TARGET)'\n",
        "    pred = f'AUTOMATIC TRANSLATION IN {target_str.upper()}'\n",
        "    #print(f'{src:30} {tgt:25} {pred}\\n')\n",
        "    \n",
        "    for i, source in enumerate(sources): # translate encoded source text\n",
        "        source = source.reshape((1, source.shape[0]))\n",
        "        translation = predict_seq(model, tar_tokenizer, source)\n",
        "        raw_target, raw_src = raw_dataset[i]\n",
        "        #print(f'{raw_src:30} {raw_target:25} {translation}')\n",
        "        #print(translation)     #predicit\n",
        "        #print(raw_target)      #actual\n",
        "        actual.append(raw_target)\n",
        "        predicted.append(translation)\n",
        "        if i >= limit: # Display some of the result\n",
        "            return actual,predicted\n",
        "            break\n",
        " \n",
        "# # test on some training sequences!pip install jiwer\n",
        "# print('### Result on the Training Set ###')\n",
        "# compare_prediction(model, tar_tokenizer, trainX, train)\n",
        "\n",
        "# test on some test sequences\n",
        "print('\\n\\n### Result on the Test Set ###')\n",
        "Actual,Predicted=compare_prediction(model, tar_tokenizer, testX, test[10000:20000,:])"
      ],
      "execution_count": null,
      "outputs": [
        {
          "output_type": "stream",
          "text": [
            "\n",
            "\n",
            "### Result on the Test Set ###\n"
          ],
          "name": "stdout"
        }
      ]
    },
    {
      "cell_type": "code",
      "metadata": {
        "colab": {
          "base_uri": "https://localhost:8080/"
        },
        "id": "CS3pF0c4SDuD",
        "outputId": "6c7f4cd2-49f7-45eb-9c36-799ffc84e099"
      },
      "source": [
        "!pip install jiwer"
      ],
      "execution_count": null,
      "outputs": [
        {
          "output_type": "stream",
          "text": [
            "Collecting jiwer\n",
            "  Downloading jiwer-2.2.0-py3-none-any.whl (13 kB)\n",
            "Requirement already satisfied: numpy in /usr/local/lib/python3.7/dist-packages (from jiwer) (1.19.5)\n",
            "Collecting python-Levenshtein\n",
            "  Downloading python-Levenshtein-0.12.2.tar.gz (50 kB)\n",
            "\u001b[?25l\r\u001b[K     |██████▌                         | 10 kB 19.6 MB/s eta 0:00:01\r\u001b[K     |█████████████                   | 20 kB 23.3 MB/s eta 0:00:01\r\u001b[K     |███████████████████▌            | 30 kB 25.2 MB/s eta 0:00:01\r\u001b[K     |██████████████████████████      | 40 kB 26.1 MB/s eta 0:00:01\r\u001b[K     |████████████████████████████████| 50 kB 4.2 MB/s \n",
            "\u001b[?25hRequirement already satisfied: setuptools in /usr/local/lib/python3.7/dist-packages (from python-Levenshtein->jiwer) (57.4.0)\n",
            "Building wheels for collected packages: python-Levenshtein\n",
            "  Building wheel for python-Levenshtein (setup.py) ... \u001b[?25l\u001b[?25hdone\n",
            "  Created wheel for python-Levenshtein: filename=python_Levenshtein-0.12.2-cp37-cp37m-linux_x86_64.whl size=149866 sha256=15d8f0aab6f9267d1844ae8d52fdc7156f136c199299e4da4d5a6a390aad0a78\n",
            "  Stored in directory: /root/.cache/pip/wheels/05/5f/ca/7c4367734892581bb5ff896f15027a932c551080b2abd3e00d\n",
            "Successfully built python-Levenshtein\n",
            "Installing collected packages: python-Levenshtein, jiwer\n",
            "Successfully installed jiwer-2.2.0 python-Levenshtein-0.12.2\n"
          ],
          "name": "stdout"
        }
      ]
    },
    {
      "cell_type": "code",
      "metadata": {
        "colab": {
          "base_uri": "https://localhost:8080/"
        },
        "id": "nwb0RvmbSDwe",
        "outputId": "3cf940c5-3423-4aaf-9e89-1750e629325d"
      },
      "source": [
        "from jiwer import wer\n",
        "error=wer(Actual,Predicted)\n",
        "error"
      ],
      "execution_count": null,
      "outputs": [
        {
          "output_type": "execute_result",
          "data": {
            "text/plain": [
              "0.38016528925619836"
            ]
          },
          "metadata": {},
          "execution_count": 30
        }
      ]
    },
    {
      "cell_type": "markdown",
      "metadata": {
        "id": "uuNV8BzWSDzC"
      },
      "source": [
        "## TER"
      ]
    },
    {
      "cell_type": "code",
      "metadata": {
        "colab": {
          "base_uri": "https://localhost:8080/"
        },
        "id": "uQ5yjpP1SUNL",
        "outputId": "bb0f2b4f-333a-4078-806c-1875512efec1"
      },
      "source": [
        "!pip install pyter3\n",
        "import pyter"
      ],
      "execution_count": null,
      "outputs": [
        {
          "output_type": "stream",
          "text": [
            "Collecting pyter3\n",
            "  Downloading pyter3-0.3-py3-none-any.whl (4.1 kB)\n",
            "Installing collected packages: pyter3\n",
            "Successfully installed pyter3-0.3\n"
          ],
          "name": "stdout"
        }
      ]
    },
    {
      "cell_type": "code",
      "metadata": {
        "colab": {
          "base_uri": "https://localhost:8080/"
        },
        "id": "fHIi0wv9SUP1",
        "outputId": "a7621fe6-aca1-4197-cd78-13ece79be0ba"
      },
      "source": [
        "i=0\n",
        "sum=0\n",
        "while i<len(Actual):\n",
        "  #print(pyter.ter(Actual[i].split(),Predicted[i].split()))\n",
        "  sum+=pyter.ter(Actual[i].split(),Predicted[i].split())\n",
        "  i=i+1\n",
        "\n",
        "\n",
        "\n",
        "sum=sum/len(Actual)\n",
        "sum"
      ],
      "execution_count": null,
      "outputs": [
        {
          "output_type": "execute_result",
          "data": {
            "text/plain": [
              "0.40249433106575966"
            ]
          },
          "metadata": {},
          "execution_count": 31
        }
      ]
    },
    {
      "cell_type": "markdown",
      "metadata": {
        "id": "gTgANhgGSUSX"
      },
      "source": [
        "# For Last 5567 testing Instance.   "
      ]
    },
    {
      "cell_type": "code",
      "metadata": {
        "colab": {
          "base_uri": "https://localhost:8080/"
        },
        "id": "Ev_VD5NBSUUx",
        "outputId": "71976e88-a940-40c9-bc22-24d6b4265c07"
      },
      "source": [
        "def word_for_id(integer, tokenizer):\n",
        "    # map an integer to a word\n",
        "    for word, index in tokenizer.word_index.items():\n",
        "        if index == integer:\n",
        "            return word\n",
        "    return None\n",
        " \n",
        "def predict_seq(model, tokenizer, source):\n",
        "    # generate target from a source sequence\n",
        "    prediction = model.predict(source, verbose=0)[0]\n",
        "    integers = [np.argmax(vector) for vector in prediction]\n",
        "    target = list()\n",
        "    \n",
        "    for i in integers:\n",
        "        word = word_for_id(i, tokenizer)\n",
        "        if word is None:\n",
        "            break\n",
        "        target.append(word)\n",
        "    return ' '.join(target)\n",
        "\n",
        "def compare_prediction(model, tokenizer, sources, raw_dataset, limit=20):\n",
        "    # evaluate a model\n",
        "    actual, predicted = [], []\n",
        "    src = f'{source_str.upper()} (SOURCE)'\n",
        "    tgt = f'{target_str.upper()} (TARGET)'\n",
        "    pred = f'AUTOMATIC TRANSLATION IN {target_str.upper()}'\n",
        "    print(f'{src:30} {tgt:25} {pred}\\n')\n",
        "    \n",
        "    for i, source in enumerate(sources): # translate encoded source text\n",
        "        source = source.reshape((1, source.shape[0]))\n",
        "        translation = predict_seq(model, tar_tokenizer, source)\n",
        "        raw_target, raw_src = raw_dataset[i]\n",
        "        print(f'{raw_src:30} {raw_target:25} {translation}')\n",
        "        if i >= limit: # Display some of the result\n",
        "            break\n",
        " \n",
        "# test on some training sequences\n",
        "# print('### Result on the Training Set ###')\n",
        "# compare_prediction(model, tar_tokenizer, trainX, train)\n",
        "\n",
        "# test on some test sequences\n",
        "print('\\n\\n### Result on the Test Set ###')\n",
        "compare_prediction(model, tar_tokenizer, testX, test[20000:25567,:])"
      ],
      "execution_count": null,
      "outputs": [
        {
          "output_type": "stream",
          "text": [
            "\n",
            "\n",
            "### Result on the Test Set ###\n",
            "PSL (SOURCE)                   ENGLISH (TARGET)          AUTOMATIC TRANSLATION IN ENGLISH\n",
            "\n",
            "they old woman help now not    they are not helping old woman they are not helping old woman\n",
            "was we chances had             we had the chances        we had a\n",
            "ashraf say i too nosey         ashraf says i am too nosey ashraf says i is too young\n",
            "i it much think full not       i haven t thought much about it i haven t thought it about it\n",
            "was i zabhi my room show       i showed my room to zabhi i showed her way way way\n",
            "was fight long last not        the fight did not last long nabi did not last the last\n",
            "i think was abbas my help want i think abbas wanted my help i think you want to help brother\n",
            "was it real scary              it was real scary         it was a red\n",
            "i small towns like             i like small towns        i like a reliable\n",
            "was i uniform wear now not     i was not wearing a uniform i was not wearing a\n",
            "mahi good captain              mahi is a good captain    mahi is a good speaker\n",
            "i rather busy be not           i would rather not be busy i would not want to busy\n",
            "was he so say not              he did not say so         he did not say so\n",
            "was he time arrive             he arrived in time        he arrived on time\n",
            "he death afraid                he is afraid of death     he is afraid afraid of guy\n",
            "was amjad say he you later call after amjad said he will call you later amjad said he will call call later\n",
            "i sure you many questions have i am sure you have many questions i am you you have questions\n",
            "was huzaifa look like was he happy huzaifa looked like he was happy zurgam looked like he was happy\n",
            "they tea drink now             they are drinking tea     they are drinking tea\n",
            "was omer daania beer buy offer omer offered to buy daania a beer omer offered to a a old\n",
            "was i monun me wait ask        i asked monun to wait for me i asked me to wait for\n"
          ],
          "name": "stdout"
        }
      ]
    },
    {
      "cell_type": "markdown",
      "metadata": {
        "id": "VzUYuW_ISdtp"
      },
      "source": [
        "## Bleu Score"
      ]
    },
    {
      "cell_type": "code",
      "metadata": {
        "id": "aeNww1WbSdyN"
      },
      "source": [
        "def bleu_score(model, tokenizer, sources, raw_dataset):\n",
        "    # Get the bleu score of a model\n",
        "    actual, predicted = [], []\n",
        "    for i, source in enumerate(sources):\n",
        "        # translate encoded source text\n",
        "        source = source.reshape((1, source.shape[0]))\n",
        "        translation = predict_seq(model, tar_tokenizer, source)\n",
        "        raw_target, raw_src = raw_dataset[i]\n",
        "        actual.append([raw_target.split()])\n",
        "        predicted.append(translation.split())\n",
        "        \n",
        "    bleu_dic = {}\n",
        "    bleu_dic['1-grams'] = corpus_bleu(actual, predicted, weights=(1.0, 0, 0, 0))\n",
        "    bleu_dic['1-2-grams'] = corpus_bleu(actual, predicted, weights=(0.5, 0.5, 0, 0))\n",
        "    bleu_dic['1-3-grams'] = corpus_bleu(actual, predicted, weights=(0.3, 0.3, 0.3, 0))\n",
        "    bleu_dic['1-4-grams'] = corpus_bleu(actual, predicted, weights=(0.25, 0.25, 0.25, 0.25))\n",
        "    \n",
        "    return bleu_dic\n",
        "\n",
        "# Compute the BLEU Score\n",
        "# bleu_train = bleu_score(model, tar_tokenizer, trainX, train)\n",
        "bleu_test = bleu_score(model, tar_tokenizer, testX,test[20000:25567,:])"
      ],
      "execution_count": null,
      "outputs": []
    },
    {
      "cell_type": "code",
      "metadata": {
        "colab": {
          "base_uri": "https://localhost:8080/",
          "height": 281
        },
        "id": "eWpdAk0lSd0X",
        "outputId": "aa91cf27-22f4-4a16-e438-d89cd8d09b6d"
      },
      "source": [
        "plt.bar(x = bleu_test.keys(), height = bleu_test.values())\n",
        "plt.title(\"BLEU Score with last 5567 test set\")\n",
        "plt.ylim((0,1))\n",
        "plt.show()"
      ],
      "execution_count": null,
      "outputs": [
        {
          "output_type": "display_data",
          "data": {
            "image/png": "[encoded data removed]",
            "text/plain": [
              "<Figure size 432x288 with 1 Axes>"
            ]
          },
          "metadata": {
            "needs_background": "light"
          }
        }
      ]
    },
    {
      "cell_type": "code",
      "metadata": {
        "colab": {
          "base_uri": "https://localhost:8080/"
        },
        "id": "Jy-ycO4nSd2H",
        "outputId": "851e5f99-3cff-413e-d696-3e002189f04d"
      },
      "source": [
        "print(bleu_test)"
      ],
      "execution_count": null,
      "outputs": [
        {
          "output_type": "stream",
          "text": [
            "{'1-grams': 0.7229104729701122, '1-2-grams': 0.6135062645591065, '1-3-grams': 0.559877004472567, '1-4-grams': 0.45247480876121837}\n"
          ],
          "name": "stdout"
        }
      ]
    },
    {
      "cell_type": "markdown",
      "metadata": {
        "id": "T9783j7fSd4O"
      },
      "source": [
        "## WER"
      ]
    },
    {
      "cell_type": "code",
      "metadata": {
        "colab": {
          "base_uri": "https://localhost:8080/"
        },
        "id": "c0HqrW84Sd8N",
        "outputId": "39f86dc5-69e2-4efe-ea2e-bbe4e11c6dca"
      },
      "source": [
        "def word_for_id(integer, tokenizer):\n",
        "    # map an integer to a word\n",
        "    for word, index in tokenizer.word_index.items():\n",
        "        if index == integer:\n",
        "            return word\n",
        "    return None\n",
        " \n",
        "def predict_seq(model, tokenizer, source):\n",
        "    # generate target from a source sequence\n",
        "    prediction = model.predict(source, verbose=0)[0]\n",
        "    integers = [np.argmax(vector) for vector in prediction]\n",
        "    target = list()\n",
        "    \n",
        "    for i in integers:\n",
        "        word = word_for_id(i, tokenizer)\n",
        "        if word is None:\n",
        "            break\n",
        "        target.append(word)\n",
        "    return ' '.join(target)\n",
        "\n",
        "def compare_prediction(model, tokenizer, sources, raw_dataset, limit=20):\n",
        "    # evaluate a model\n",
        "    actual, predicted = [], []\n",
        "    src = f'{source_str.upper()} (SOURCE)'\n",
        "    tgt = f'{target_str.upper()} (TARGET)'\n",
        "    pred = f'AUTOMATIC TRANSLATION IN {target_str.upper()}'\n",
        "    #print(f'{src:30} {tgt:25} {pred}\\n')\n",
        "    \n",
        "    for i, source in enumerate(sources): # translate encoded source text\n",
        "        source = source.reshape((1, source.shape[0]))\n",
        "        translation = predict_seq(model, tar_tokenizer, source)\n",
        "        raw_target, raw_src = raw_dataset[i]\n",
        "        #print(f'{raw_src:30} {raw_target:25} {translation}')\n",
        "        #print(translation)     #predicit\n",
        "        #print(raw_target)      #actual\n",
        "        actual.append(raw_target)\n",
        "        predicted.append(translation)\n",
        "        if i >= limit: # Display some of the result\n",
        "            return actual,predicted\n",
        "            break\n",
        " \n",
        "# # test on some training sequences!pip install jiwer\n",
        "# print('### Result on the Training Set ###')\n",
        "# compare_prediction(model, tar_tokenizer, trainX, train)\n",
        "\n",
        "# test on some test sequences\n",
        "print('\\n\\n### Result on the Test Set ###')\n",
        "Actual,Predicted=compare_prediction(model, tar_tokenizer, testX, test[20000:25567,:])"
      ],
      "execution_count": null,
      "outputs": [
        {
          "output_type": "stream",
          "text": [
            "\n",
            "\n",
            "### Result on the Test Set ###\n"
          ],
          "name": "stdout"
        }
      ]
    },
    {
      "cell_type": "code",
      "metadata": {
        "colab": {
          "base_uri": "https://localhost:8080/"
        },
        "id": "6vvc0k21SUXS",
        "outputId": "c339cade-0223-4703-eee3-0064a3cfa768"
      },
      "source": [
        "!pip install jiwer"
      ],
      "execution_count": null,
      "outputs": [
        {
          "output_type": "stream",
          "text": [
            "Collecting jiwer\n",
            "  Downloading jiwer-2.2.0-py3-none-any.whl (13 kB)\n",
            "Requirement already satisfied: numpy in /usr/local/lib/python3.7/dist-packages (from jiwer) (1.19.5)\n",
            "Collecting python-Levenshtein\n",
            "  Downloading python-Levenshtein-0.12.2.tar.gz (50 kB)\n",
            "\u001b[?25l\r\u001b[K     |██████▌                         | 10 kB 23.8 MB/s eta 0:00:01\r\u001b[K     |█████████████                   | 20 kB 13.9 MB/s eta 0:00:01\r\u001b[K     |███████████████████▌            | 30 kB 12.9 MB/s eta 0:00:01\r\u001b[K     |██████████████████████████      | 40 kB 12.2 MB/s eta 0:00:01\r\u001b[K     |████████████████████████████████| 50 kB 3.0 MB/s \n",
            "\u001b[?25hRequirement already satisfied: setuptools in /usr/local/lib/python3.7/dist-packages (from python-Levenshtein->jiwer) (57.4.0)\n",
            "Building wheels for collected packages: python-Levenshtein\n",
            "  Building wheel for python-Levenshtein (setup.py) ... \u001b[?25l\u001b[?25hdone\n",
            "  Created wheel for python-Levenshtein: filename=python_Levenshtein-0.12.2-cp37-cp37m-linux_x86_64.whl size=149874 sha256=e8117225075cad45bdb383e15cc243af586fadf82f304ab0604324617eca6294\n",
            "  Stored in directory: /root/.cache/pip/wheels/05/5f/ca/7c4367734892581bb5ff896f15027a932c551080b2abd3e00d\n",
            "Successfully built python-Levenshtein\n",
            "Installing collected packages: python-Levenshtein, jiwer\n",
            "Successfully installed jiwer-2.2.0 python-Levenshtein-0.12.2\n"
          ],
          "name": "stdout"
        }
      ]
    },
    {
      "cell_type": "code",
      "metadata": {
        "colab": {
          "base_uri": "https://localhost:8080/"
        },
        "id": "RfvY51rhSUZ4",
        "outputId": "18764876-deae-40a5-f3ec-43ad9b476a2b"
      },
      "source": [
        "from jiwer import wer\n",
        "error=wer(Actual,Predicted)\n",
        "error"
      ],
      "execution_count": null,
      "outputs": [
        {
          "output_type": "execute_result",
          "data": {
            "text/plain": [
              "0.3220338983050847"
            ]
          },
          "metadata": {},
          "execution_count": 16
        }
      ]
    },
    {
      "cell_type": "markdown",
      "metadata": {
        "id": "9FDPWLqXSUdO"
      },
      "source": [
        "## TER"
      ]
    },
    {
      "cell_type": "code",
      "metadata": {
        "colab": {
          "base_uri": "https://localhost:8080/"
        },
        "id": "T390TAXCSD3S",
        "outputId": "305b8376-0b0e-424f-8c9f-7d0fca3303d1"
      },
      "source": [
        "!pip install pyter3\n",
        "import pyter"
      ],
      "execution_count": null,
      "outputs": [
        {
          "output_type": "stream",
          "text": [
            "Collecting pyter3\n",
            "  Downloading pyter3-0.3-py3-none-any.whl (4.1 kB)\n",
            "Installing collected packages: pyter3\n",
            "Successfully installed pyter3-0.3\n"
          ],
          "name": "stdout"
        }
      ]
    },
    {
      "cell_type": "code",
      "metadata": {
        "colab": {
          "base_uri": "https://localhost:8080/"
        },
        "id": "CRx3KhtZS9ra",
        "outputId": "1df38973-a812-43aa-c6bc-d67ad3d587c1"
      },
      "source": [
        "i=0\n",
        "sum=0\n",
        "while i<len(Actual):\n",
        "  #print(pyter.ter(Actual[i].split(),Predicted[i].split()))\n",
        "  sum+=pyter.ter(Actual[i].split(),Predicted[i].split())\n",
        "  i=i+1\n",
        "\n",
        "\n",
        "\n",
        "sum=sum/len(Actual)\n",
        "sum"
      ],
      "execution_count": null,
      "outputs": [
        {
          "output_type": "execute_result",
          "data": {
            "text/plain": [
              "0.32573696145124714"
            ]
          },
          "metadata": {},
          "execution_count": 18
        }
      ]
    },
    {
      "cell_type": "markdown",
      "metadata": {
        "id": "i8UIlyGIS_wA"
      },
      "source": [
        "# Average WER"
      ]
    },
    {
      "cell_type": "code",
      "metadata": {
        "colab": {
          "base_uri": "https://localhost:8080/"
        },
        "id": "MwWRRLE1S_yr",
        "outputId": "412ddcfa-3d89-45d7-d47a-50ee86d1ee5e"
      },
      "source": [
        "(0.154+0.380+0.322)/3"
      ],
      "execution_count": null,
      "outputs": [
        {
          "output_type": "execute_result",
          "data": {
            "text/plain": [
              "0.2853333333333334"
            ]
          },
          "metadata": {},
          "execution_count": 1
        }
      ]
    },
    {
      "cell_type": "markdown",
      "metadata": {
        "id": "V7ZxmY2XS_1Z"
      },
      "source": [
        "# Average TER"
      ]
    },
    {
      "cell_type": "code",
      "metadata": {
        "colab": {
          "base_uri": "https://localhost:8080/"
        },
        "id": "GSyWgaLyS_4g",
        "outputId": "669421f5-a391-48d2-c642-8719ae555ecf"
      },
      "source": [
        "(0.161+0.402+0.325)/3"
      ],
      "execution_count": null,
      "outputs": [
        {
          "output_type": "execute_result",
          "data": {
            "text/plain": [
              "0.29600000000000004"
            ]
          },
          "metadata": {},
          "execution_count": 2
        }
      ]
    },
    {
      "cell_type": "code",
      "metadata": {
        "id": "srEEejWtS__N"
      },
      "source": [
        "gram1=(0.723+0.720+0.722)/3\n",
        "gram2=(0.615+0.611+0.613)/3\n",
        "gram3=(0.561+0.557+0.559)/3\n",
        "gram4=(0.453+0.448+0.452)/3"
      ],
      "execution_count": null,
      "outputs": []
    },
    {
      "cell_type": "code",
      "metadata": {
        "id": "GibnF1pLTACz"
      },
      "source": [
        "bleu_dic = {}\n",
        "bleu_dic['1-grams']=gram1\n",
        "bleu_dic['1-2-grams']= gram2\n",
        "bleu_dic['1-3-grams']=gram3\n",
        "bleu_dic['1-4-grams']=gram4"
      ],
      "execution_count": null,
      "outputs": []
    },
    {
      "cell_type": "code",
      "metadata": {
        "colab": {
          "base_uri": "https://localhost:8080/"
        },
        "id": "Q8n2U8dKrxer",
        "outputId": "fbf2c1ef-9b2c-4978-af0d-04383d4fb918"
      },
      "source": [
        "print(bleu_dic)"
      ],
      "execution_count": null,
      "outputs": [
        {
          "output_type": "stream",
          "text": [
            "{'1-grams': 0.7216666666666667, '1-2-grams': 0.613, '1-3-grams': 0.559, '1-4-grams': 0.451}\n"
          ],
          "name": "stdout"
        }
      ]
    },
    {
      "cell_type": "code",
      "metadata": {
        "colab": {
          "base_uri": "https://localhost:8080/",
          "height": 281
        },
        "id": "s5JVVEyCrxnU",
        "outputId": "92f976ff-a6a0-4bc4-ef06-6aba3acd15ed"
      },
      "source": [
        "plt.bar(x = bleu_dic.keys(), height = bleu_dic.values())\n",
        "plt.title(\"Average BLEU Score\")\n",
        "plt.ylim((0,1))\n",
        "plt.show()"
      ],
      "execution_count": null,
      "outputs": [
        {
          "output_type": "display_data",
          "data": {
            "image/png": "[encoded data removed]",
            "text/plain": [
              "<Figure size 432x288 with 1 Axes>"
            ]
          },
          "metadata": {
            "needs_background": "light"
          }
        }
      ]
    },
    {
      "cell_type": "code",
      "metadata": {
        "id": "YHSOCJOGrxpy"
      },
      "source": [
        ""
      ],
      "execution_count": null,
      "outputs": []
    },
    {
      "cell_type": "code",
      "metadata": {
        "id": "yRcvoduArxtL"
      },
      "source": [
        ""
      ],
      "execution_count": null,
      "outputs": []
    }
  ]
}